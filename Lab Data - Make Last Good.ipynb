{
 "cells": [
  {
   "cell_type": "markdown",
   "metadata": {},
   "source": [
    "Creates a .vec file with regular intervals for lab data with irregular time stamps. "
   ]
  },
  {
   "cell_type": "code",
   "execution_count": 7,
   "metadata": {},
   "outputs": [],
   "source": [
    "import csv\n",
    "import datetime\n",
    "import tkinter as tk\n",
    "\n",
    "from dateutil.parser import parse\n",
    "from tkinter import filedialog\n",
    "from tkinter import messagebox"
   ]
  },
  {
   "cell_type": "code",
   "execution_count": 8,
   "metadata": {},
   "outputs": [],
   "source": [
    "def read_csv_as_nested_list(filename, separator, quote):\n",
    "    \"\"\"\n",
    "    Inputs:\n",
    "      filename  - Name of CSV file\n",
    "      keyfield  - Field to use as key for rows\n",
    "      separator - Character that separates fields\n",
    "      quote     - Character used to optionally quote fields\n",
    "\n",
    "    Output:\n",
    "      Returns a list of lists where the outer list corresponds to a each \n",
    "      row in the CSV file. The inner lists contain each comma separated \n",
    "      value from the CSV file.\n",
    "    \"\"\"\n",
    "    \n",
    "    list1 = []\n",
    "    with open(filename, newline='') as csvfile:\n",
    "        csvreader = csv.reader(\n",
    "            csvfile, delimiter=separator, quotechar=quote)\n",
    "        for row in csvreader:\n",
    "            list1.append(row)\n",
    "            \n",
    "    return list1"
   ]
  },
  {
   "cell_type": "code",
   "execution_count": 9,
   "metadata": {},
   "outputs": [],
   "source": [
    "def create_lab_dict(list1, interval_s):\n",
    "    \"\"\"\n",
    "    Input: List of timestamps and data starting at 3rd row and desired \n",
    "        vector frequency\n",
    "    Output: A tuple, first a dictionary from the input list of timestamps \n",
    "            and lab data, second a parameter dictionary\n",
    "    \"\"\"\n",
    "    lab_dict = {}\n",
    "    for idx in range(3,len(list1)):\n",
    "        lab_dict[parse(list1[idx][0])] = [list1[idx][1]]\n",
    "        \n",
    "    params = {}\n",
    "    params['tag'] = list1[0][1]\n",
    "    params['desc'] = list1[1][1]\n",
    "    params['units'] = list1[2][1]\n",
    "    first_timestamp = list1[3][0]\n",
    "    last_timestamp = list1[len(list1)-1][0]\n",
    "    \n",
    "    delta = parse(last_timestamp) - parse(first_timestamp)\n",
    "    interval = datetime.timedelta(seconds = interval_s)\n",
    "        \n",
    "    params['first_timestamp'] = parse(first_timestamp)\n",
    "    params['last_timestamp'] = parse(last_timestamp)\n",
    "    params['delta'] = delta\n",
    "    params['interval'] = interval\n",
    "    params['samples'] = int(delta/interval)\n",
    "    \n",
    "    return lab_dict, params"
   ]
  },
  {
   "cell_type": "code",
   "execution_count": 16,
   "metadata": {},
   "outputs": [],
   "source": [
    "def create_data_list(lab_dict, params):\n",
    "    \"\"\"\n",
    "    Input: A tuple, first a dictionary of datetime timestamps and lab data\n",
    "            and second a parameter dictionary\n",
    "    Output: A list of items to be written to the .vec file\n",
    "    \"\"\"\n",
    "    timestamps = {}\n",
    "    for idx in range(0,params['samples']):\n",
    "        timestamp = params['first_timestamp'] + params['interval'] * idx\n",
    "        \n",
    "        if timestamp in lab_dict:\n",
    "            timestamps[timestamp] = lab_dict[timestamp][0]\n",
    "            last_good = lab_dict[timestamp][0]\n",
    "        else:\n",
    "            timestamps[timestamp] = last_good\n",
    "            \n",
    "    header = []\n",
    "    header.append(len(timestamps))\n",
    "    header.append(params['tag'])\n",
    "    \n",
    "    spaces = 42 - len(params['desc'])\n",
    "    ts = params['first_timestamp'].strftime(\"%d-%b-%Y  %H:%M:%S\")\n",
    "    header.append(params['desc']+' '*spaces+ts)\n",
    "    header.append(params['units']+' '*47+str(params['interval'].seconds)+\".00 (SEC)\")\n",
    "    \n",
    "    output = []\n",
    "    for item in range(0,len(header)):\n",
    "        output.append([header[item]])\n",
    "    \n",
    "    for timestamp in timestamps:\n",
    "        output.append([timestamps[timestamp]])\n",
    "    \n",
    "    return output"
   ]
  },
  {
   "cell_type": "code",
   "execution_count": 17,
   "metadata": {},
   "outputs": [],
   "source": [
    "def write_vec_file(file_name):\n",
    "    \"\"\"\n",
    "    Input: .csv file path containing lab data starting at 3rd element\n",
    "    Action: writes a .vec file for lab data with specified intervals\n",
    "    \"\"\"\n",
    "    vec_str = file_name.split(\".\")\n",
    "    vec_file_name = \"{}.vec\".format(vec_str[0])\n",
    "    \n",
    "    list1 = read_csv_as_nested_list(file_name, \"\\t\",\"'\")\n",
    "    lab_dict, params = create_lab_dict(list1, 60)\n",
    "    output = create_data_list(list1, lab_dict, params)\n",
    "    \n",
    "    with open(vec_file_name, 'w', newline='') as csv_file:\n",
    "        writer = csv.writer(csv_file)\n",
    "    \n",
    "        for w in range(0,len(output)):\n",
    "            writer.writerow(output[w])"
   ]
  },
  {
   "cell_type": "code",
   "execution_count": 12,
   "metadata": {},
   "outputs": [],
   "source": [
    "def multi_file_conversion():\n",
    "    \"\"\"\n",
    "    Action: \n",
    "        Prompts user to select CSV files for conversion\n",
    "        Converts selected CSV files to VEC files\n",
    "    \"\"\"\n",
    "    root = tk.Tk()\n",
    "    root.withdraw()\n",
    "\n",
    "    file_path = filedialog.askopenfilenames(title = \"Select file\", filetypes=[(\"Test files\", \".txt\"),(\"CSV files\", \".csv\")])\n",
    "\n",
    "    messages = \"\"\n",
    "    fail_msg = \"\"\n",
    "    \n",
    "    for files in file_path:\n",
    "        try:\n",
    "            write_vec_file(files)\n",
    "            messages += \"{} conversion complete\\n\".format(files)\n",
    "        except:\n",
    "            fail_msg += \"{} conversion failed\\n\".format(files)\n",
    "            continue\n",
    "    \n",
    "    messagebox.showinfo(title = \"Conversion results\", message = messages)\n",
    "    \n",
    "    if fail_msg != \"\":\n",
    "        messagebox.showerror(title = \"Conversion failed\", message = fail_msg)"
   ]
  },
  {
   "cell_type": "code",
   "execution_count": 15,
   "metadata": {},
   "outputs": [],
   "source": [
    "multi_file_conversion()"
   ]
  }
 ],
 "metadata": {
  "kernelspec": {
   "display_name": "Python 3",
   "language": "python",
   "name": "python3"
  },
  "language_info": {
   "codemirror_mode": {
    "name": "ipython",
    "version": 3
   },
   "file_extension": ".py",
   "mimetype": "text/x-python",
   "name": "python",
   "nbconvert_exporter": "python",
   "pygments_lexer": "ipython3",
   "version": "3.8.5"
  }
 },
 "nbformat": 4,
 "nbformat_minor": 4
}
